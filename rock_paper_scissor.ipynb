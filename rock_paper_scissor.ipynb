{
  "nbformat": 4,
  "nbformat_minor": 0,
  "metadata": {
    "colab": {
      "name": "rock paper scissor.ipynb",
      "provenance": [],
      "collapsed_sections": []
    },
    "kernelspec": {
      "name": "python3",
      "display_name": "Python 3"
    },
    "language_info": {
      "name": "python"
    }
  },
  "cells": [
    {
      "cell_type": "code",
      "source": [
        "import random\n",
        "\n",
        "user_wins = 0\n",
        "computer_wins = 0\n",
        "\n",
        "options = [\"rock\", \"paper\", \"scissors\"]\n",
        "\n",
        "while True:\n",
        "    user_input = input(\"Type Rock/Paper/Scissors or Q to quit: \").lower()\n",
        "    if user_input == \"q\":\n",
        "        break\n",
        "    if user_input not in options:\n",
        "        continue\n",
        "    random_number = random.randint(0,2)\n",
        "    computer_pick = options[random_number]\n",
        "    print(\"Computer picked\", computer_pick +\".\")\n",
        "\n",
        "    if user_input == \"rock\" and computer_pick == \"scissors\":\n",
        "        print(\"You won!\")\n",
        "        user_wins =+1\n",
        "\n",
        "    elif user_input == \"paper\" and computer_pick == \"rock\":\n",
        "        print(\"You won!\")\n",
        "        user_wins +=1\n",
        "\n",
        "    elif user_input == \"scissors\" and computer_pick == \"paper\":\n",
        "        print(\"You won!\")\n",
        "\n",
        "    else:\n",
        "        print(\"Computer won!\")\n",
        "        computer_wins +=1\n",
        "\n",
        "\n",
        "print(\"You won\", user_wins, \"times\")\n",
        "print(\"The computer won\",computer_wins, \"times.\")\n",
        "print(\"Auf Wiedersehen\")\n",
        "\n",
        "\n",
        "              \n"
      ],
      "metadata": {
        "id": "yy9HUXrAv1pl"
      },
      "execution_count": null,
      "outputs": []
    },
    {
      "cell_type": "code",
      "source": [
        ""
      ],
      "metadata": {
        "id": "Un8_oSySxBXz"
      },
      "execution_count": null,
      "outputs": []
    }
  ]
}