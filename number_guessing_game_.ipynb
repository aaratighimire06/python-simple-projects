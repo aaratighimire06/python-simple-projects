{
  "nbformat": 4,
  "nbformat_minor": 0,
  "metadata": {
    "colab": {
      "name": "number guessing game .ipynb",
      "provenance": [],
      "authorship_tag": "ABX9TyNOlbubH7AvSXevy0gr052I",
      "include_colab_link": true
    },
    "kernelspec": {
      "name": "python3",
      "display_name": "Python 3"
    },
    "language_info": {
      "name": "python"
    }
  },
  "cells": [
    {
      "cell_type": "markdown",
      "metadata": {
        "id": "view-in-github",
        "colab_type": "text"
      },
      "source": [
        "<a href=\"https://colab.research.google.com/github/aaratighimire06/python-simple-projects/blob/main/number_guessing_game_.ipynb\" target=\"_parent\"><img src=\"https://colab.research.google.com/assets/colab-badge.svg\" alt=\"Open In Colab\"/></a>"
      ]
    },
    {
      "cell_type": "code",
      "execution_count": null,
      "metadata": {
        "id": "_Ws208GFUpg7"
      },
      "outputs": [],
      "source": [
        "import random\n",
        "\n",
        "top_of_range = input(\"Type a number: \")\n",
        "\n",
        "if top_of_range.isdigit():\n",
        "    top_of_range = int(top_of_range)\n",
        "\n",
        "    if top_of_range <= 0:\n",
        "        print('Please type a number larger than 0 next time.')\n",
        "        quit()\n",
        "else:\n",
        "    print('Please type a number next time.')\n",
        "    quit()\n",
        "\n",
        "random_number = random.randint(0, top_of_range)\n",
        "guesses = 0\n",
        "\n",
        "while True:\n",
        "    guesses += 1\n",
        "    user_guess = input(\"Make a guess: \")\n",
        "    if user_guess.isdigit():\n",
        "        user_guess = int(user_guess)\n",
        "    else:\n",
        "        print('Please type a number next time.')\n",
        "        continue\n",
        "\n",
        "    if user_guess == random_number:\n",
        "        print(\"You got it!\")\n",
        "        break\n",
        "    elif user_guess > random_number:\n",
        "        print(\"You were above the number!\")\n",
        "    else:\n",
        "        print(\"You were below the number!\")\n",
        "\n",
        "print(\"You got it in\", guesses, \"guesses\")\n",
        "\n"
      ]
    },
    {
      "cell_type": "code",
      "source": [
        ""
      ],
      "metadata": {
        "id": "OL7ljLgAUt6s"
      },
      "execution_count": null,
      "outputs": []
    }
  ]
}